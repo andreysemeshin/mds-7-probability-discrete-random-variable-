{
 "cells": [
  {
   "cell_type": "markdown",
   "metadata": {},
   "source": [
    "Уровень 0\n",
    "\n",
    "Задание 1\n",
    "Монетку подбрасывают 15 раз, найдите вероятность выпадения простого числа орлов (решение на бумажке и на python)."
   ]
  },
  {
   "cell_type": "code",
   "execution_count": 4,
   "metadata": {},
   "outputs": [],
   "source": [
    "# Задание 1\n",
    "import numpy as np"
   ]
  },
  {
   "cell_type": "markdown",
   "metadata": {},
   "source": [
    "Задание 1\n",
    "\n",
    "15 раз\n",
    "из них 2, 3, 5, 7, 11, 13 - простые числа \n",
    "\n",
    "вероятность = все комбинации выпадения с простыми числами делать на общее число возможных комбинаций\n",
    "\n",
    "$\\frac{(C^{2}_{15}+C^{3}_{15}+C^{5}_{15}+C^{7}_{15}+C^{11}_{15}+C^{13}_{15})}{C_{15}}$ \n",
    "\n"
   ]
  },
  {
   "cell_type": "code",
   "execution_count": 46,
   "metadata": {},
   "outputs": [],
   "source": [
    "def list_prime_in_N(n):\n",
    "    \"\"\"Возвращает лист с простыми числами в N\"\"\"\n",
    "    list_prime = []\n",
    "    cnt_prim =0 \n",
    "    for i in range(2,n+1):\n",
    "        check = 0\n",
    "        for j in range(2,i):\n",
    "            if i % j == 0:\n",
    "                check = 1\n",
    "                break\n",
    "        if check == 0:\n",
    "            cnt_prim +=1\n",
    "            list_prime.append(i)\n",
    "    return list_prime\n",
    "\n",
    "def fac(number):\n",
    "    \"\"\"функция факториала от числа\"\"\"\n",
    "    if number == 0:\n",
    "        return 1\n",
    "    else:\n",
    "        return fac(number-1)*number\n",
    "    \n",
    "def cnt_combination(num, n):\n",
    "    \"\"\"Возращает кол-во комбинаций, n всего объектов, num - кол-во выбранных объектов\"\"\"\n",
    "    return fac(n)/(fac(n-num)*fac(num))    "
   ]
  },
  {
   "cell_type": "code",
   "execution_count": 47,
   "metadata": {},
   "outputs": [
    {
     "name": "stdout",
     "output_type": "stream",
     "text": [
      "Введите число подбрасываний: 15\n"
     ]
    },
    {
     "data": {
      "text/plain": [
       "'35.0%'"
      ]
     },
     "execution_count": 47,
     "metadata": {},
     "output_type": "execute_result"
    }
   ],
   "source": [
    "sum_ = 0\n",
    "n = int(input('Введите число подбрасываний: '))\n",
    "for i in list_prime_in_N(n):\n",
    "    sum_ += cnt_combination(i, n)\n",
    "probability = round(sum_ / 2**15,2)   \n",
    "str(probability*100) + '%'"
   ]
  },
  {
   "cell_type": "code",
   "execution_count": 49,
   "metadata": {},
   "outputs": [
    {
     "data": {
      "text/plain": [
       "0.35"
      ]
     },
     "execution_count": 49,
     "metadata": {},
     "output_type": "execute_result"
    }
   ],
   "source": [
    "# ответ 35%\n",
    "probability"
   ]
  },
  {
   "cell_type": "markdown",
   "metadata": {},
   "source": [
    "__________"
   ]
  },
  {
   "cell_type": "markdown",
   "metadata": {},
   "source": [
    "Задание 2\n",
    "\n",
    "Создайте свою дискретную случайную величину с не менее, чем 10 значениями. Просемплируйте 1000 случайных значений, постройте гистограмму плотности распределения по выборке, посчитайте среднее, дисперсию и медиану."
   ]
  },
  {
   "cell_type": "code",
   "execution_count": 97,
   "metadata": {},
   "outputs": [],
   "source": [
    "import seaborn as sns\n",
    "import statistics\n",
    "import scipy.stats as sts"
   ]
  },
  {
   "cell_type": "code",
   "execution_count": 77,
   "metadata": {},
   "outputs": [
    {
     "data": {
      "text/plain": [
       "array([53, 20, 86, ..., 26, 30, 70])"
      ]
     },
     "execution_count": 77,
     "metadata": {},
     "output_type": "execute_result"
    }
   ],
   "source": [
    "np.random.randint(low=1, high=100, size=100)"
   ]
  },
  {
   "cell_type": "code",
   "execution_count": 93,
   "metadata": {},
   "outputs": [],
   "source": [
    "array = np.array([])\n",
    "for i in range(1001):\n",
    "    new_array = np.random.randint(low=1, high=100, size=100)\n",
    "    array = np.concatenate((array, new_array), axis=None)"
   ]
  },
  {
   "cell_type": "code",
   "execution_count": 96,
   "metadata": {},
   "outputs": [
    {
     "data": {
      "text/plain": [
       "<matplotlib.axes._subplots.AxesSubplot at 0x1a18e12550>"
      ]
     },
     "execution_count": 96,
     "metadata": {},
     "output_type": "execute_result"
    },
    {
     "data": {
      "image/png": "[encoded data removed]",
      "text/plain": [
       "<Figure size 432x288 with 1 Axes>"
      ]
     },
     "metadata": {
      "needs_background": "light"
     },
     "output_type": "display_data"
    }
   ],
   "source": [
    "# гистограмма\n",
    "sns.distplot(array)"
   ]
  },
  {
   "cell_type": "code",
   "execution_count": 101,
   "metadata": {},
   "outputs": [
    {
     "name": "stdout",
     "output_type": "stream",
     "text": [
      "Среднее:  49.98748251748252\n"
     ]
    }
   ],
   "source": [
    "# среднее\n",
    "print('Среднее: ', statistics.mean(array))"
   ]
  },
  {
   "cell_type": "code",
   "execution_count": 102,
   "metadata": {},
   "outputs": [
    {
     "name": "stdout",
     "output_type": "stream",
     "text": [
      "Медиана:  50.0\n"
     ]
    }
   ],
   "source": [
    "print('Медиана: ', statistics.median(array))"
   ]
  },
  {
   "cell_type": "code",
   "execution_count": 104,
   "metadata": {},
   "outputs": [
    {
     "name": "stdout",
     "output_type": "stream",
     "text": [
      "Дисперсия:  815.7239492067373\n"
     ]
    }
   ],
   "source": [
    "print('Дисперсия: ', statistics.pvariance(array))"
   ]
  },
  {
   "cell_type": "code",
   "execution_count": null,
   "metadata": {},
   "outputs": [],
   "source": []
  },
  {
   "cell_type": "code",
   "execution_count": null,
   "metadata": {},
   "outputs": [],
   "source": []
  },
  {
   "cell_type": "code",
   "execution_count": null,
   "metadata": {},
   "outputs": [],
   "source": []
  },
  {
   "cell_type": "code",
   "execution_count": null,
   "metadata": {},
   "outputs": [],
   "source": []
  },
  {
   "cell_type": "code",
   "execution_count": null,
   "metadata": {},
   "outputs": [],
   "source": []
  },
  {
   "cell_type": "code",
   "execution_count": null,
   "metadata": {},
   "outputs": [],
   "source": []
  }
 ],
 "metadata": {
  "kernelspec": {
   "display_name": "Python 3",
   "language": "python",
   "name": "python3"
  },
  "language_info": {
   "codemirror_mode": {
    "name": "ipython",
    "version": 3
   },
   "file_extension": ".py",
   "mimetype": "text/x-python",
   "name": "python",
   "nbconvert_exporter": "python",
   "pygments_lexer": "ipython3",
   "version": "3.7.7"
  }
 },
 "nbformat": 4,
 "nbformat_minor": 4
}
